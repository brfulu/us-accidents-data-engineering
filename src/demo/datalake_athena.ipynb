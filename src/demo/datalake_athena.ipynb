{
 "cells": [
  {
   "cell_type": "markdown",
   "metadata": {},
   "source": [
    "# Query datalakes on S3 with Amazon Athena"
   ]
  },
  {
   "cell_type": "markdown",
   "metadata": {},
   "source": [
    "Visit the followint AWS blogpost for more detailed instructions: https://aws.amazon.com/blogs/machine-learning/run-sql-queries-from-your-sagemaker-notebooks-using-amazon-athena/"
   ]
  },
  {
   "cell_type": "markdown",
   "metadata": {},
   "source": [
    "### Install dependencies.\n",
    "PyAthena is a Python DB API 2.0 (PEP 249) compliant client for the Amazon Athena JDBC driver."
   ]
  },
  {
   "cell_type": "code",
   "execution_count": 5,
   "metadata": {
    "pycharm": {
     "is_executing": false
    }
   },
   "outputs": [
    {
     "name": "stdout",
     "output_type": "stream",
     "text": [
      "Requirement already satisfied: PyAthena in /home/fulu/test/us-accidents-data-engineering/venv/lib/python3.7/site-packages (1.9.0)\n",
      "Requirement already satisfied: tenacity>=4.1.0 in /home/fulu/test/us-accidents-data-engineering/venv/lib/python3.7/site-packages (from PyAthena) (4.12.0)\n",
      "Requirement already satisfied: future in /home/fulu/test/us-accidents-data-engineering/venv/lib/python3.7/site-packages (from PyAthena) (0.16.0)\n",
      "Requirement already satisfied: botocore>=1.5.52 in /home/fulu/test/us-accidents-data-engineering/venv/lib/python3.7/site-packages (from PyAthena) (1.13.41)\n",
      "Requirement already satisfied: boto3>=1.4.4 in /home/fulu/test/us-accidents-data-engineering/venv/lib/python3.7/site-packages (from PyAthena) (1.10.41)\n",
      "Requirement already satisfied: six>=1.9.0 in /home/fulu/test/us-accidents-data-engineering/venv/lib/python3.7/site-packages (from tenacity>=4.1.0->PyAthena) (1.13.0)\n",
      "Requirement already satisfied: docutils<0.16,>=0.10 in /home/fulu/test/us-accidents-data-engineering/venv/lib/python3.7/site-packages (from botocore>=1.5.52->PyAthena) (0.15.2)\n",
      "Requirement already satisfied: python-dateutil<2.8.1,>=2.1; python_version >= \"2.7\" in /home/fulu/test/us-accidents-data-engineering/venv/lib/python3.7/site-packages (from botocore>=1.5.52->PyAthena) (2.8.0)\n",
      "Requirement already satisfied: jmespath<1.0.0,>=0.7.1 in /home/fulu/test/us-accidents-data-engineering/venv/lib/python3.7/site-packages (from botocore>=1.5.52->PyAthena) (0.9.4)\n",
      "Requirement already satisfied: urllib3<1.26,>=1.20; python_version >= \"3.4\" in /home/fulu/test/us-accidents-data-engineering/venv/lib/python3.7/site-packages (from botocore>=1.5.52->PyAthena) (1.25.7)\n",
      "Requirement already satisfied: s3transfer<0.3.0,>=0.2.0 in /home/fulu/test/us-accidents-data-engineering/venv/lib/python3.7/site-packages (from boto3>=1.4.4->PyAthena) (0.2.1)\n"
     ]
    }
   ],
   "source": [
    "import sys\n",
    "!{sys.executable} -m pip install PyAthena"
   ]
  },
  {
   "cell_type": "markdown",
   "metadata": {},
   "source": [
    "### Connect to Athena and run SQL queries against your datalake on S3."
   ]
  },
  {
   "cell_type": "code",
   "execution_count": 6,
   "metadata": {
    "pycharm": {
     "is_executing": false
    }
   },
   "outputs": [
    {
     "data": {
      "text/html": [
       "<div>\n",
       "<style scoped>\n",
       "    .dataframe tbody tr th:only-of-type {\n",
       "        vertical-align: middle;\n",
       "    }\n",
       "\n",
       "    .dataframe tbody tr th {\n",
       "        vertical-align: top;\n",
       "    }\n",
       "\n",
       "    .dataframe thead th {\n",
       "        text-align: right;\n",
       "    }\n",
       "</style>\n",
       "<table border=\"1\" class=\"dataframe\">\n",
       "  <thead>\n",
       "    <tr style=\"text-align: right;\">\n",
       "      <th></th>\n",
       "      <th>accident_id</th>\n",
       "      <th>datetime</th>\n",
       "      <th>severity</th>\n",
       "      <th>distance</th>\n",
       "      <th>description</th>\n",
       "      <th>temperature</th>\n",
       "      <th>wind_speed</th>\n",
       "      <th>precipitation</th>\n",
       "      <th>airport_code</th>\n",
       "      <th>city_id</th>\n",
       "      <th>weather_condition_id</th>\n",
       "      <th>year</th>\n",
       "      <th>month</th>\n",
       "    </tr>\n",
       "  </thead>\n",
       "  <tbody>\n",
       "    <tr>\n",
       "      <th>0</th>\n",
       "      <td>A-45835</td>\n",
       "      <td>2016-07-01</td>\n",
       "      <td>3</td>\n",
       "      <td>0.0</td>\n",
       "      <td>#1 lane closed due to accident on I-405 Southb...</td>\n",
       "      <td>64.9</td>\n",
       "      <td>5.8</td>\n",
       "      <td>None</td>\n",
       "      <td>KVNY</td>\n",
       "      <td>NaN</td>\n",
       "      <td>93</td>\n",
       "      <td>2016</td>\n",
       "      <td>7</td>\n",
       "    </tr>\n",
       "    <tr>\n",
       "      <th>1</th>\n",
       "      <td>A-45836</td>\n",
       "      <td>2016-07-01</td>\n",
       "      <td>2</td>\n",
       "      <td>0.0</td>\n",
       "      <td>Right hand shoulder blocked due to accident on...</td>\n",
       "      <td>64.9</td>\n",
       "      <td>4.6</td>\n",
       "      <td>None</td>\n",
       "      <td>KBUR</td>\n",
       "      <td>NaN</td>\n",
       "      <td>93</td>\n",
       "      <td>2016</td>\n",
       "      <td>7</td>\n",
       "    </tr>\n",
       "    <tr>\n",
       "      <th>2</th>\n",
       "      <td>A-45837</td>\n",
       "      <td>2016-07-01</td>\n",
       "      <td>2</td>\n",
       "      <td>0.0</td>\n",
       "      <td>Right hand shoulder blocked due to accident on...</td>\n",
       "      <td>64.9</td>\n",
       "      <td>4.6</td>\n",
       "      <td>None</td>\n",
       "      <td>KBUR</td>\n",
       "      <td>9.534827e+11</td>\n",
       "      <td>93</td>\n",
       "      <td>2016</td>\n",
       "      <td>7</td>\n",
       "    </tr>\n",
       "    <tr>\n",
       "      <th>3</th>\n",
       "      <td>A-45838</td>\n",
       "      <td>2016-07-01</td>\n",
       "      <td>3</td>\n",
       "      <td>0.0</td>\n",
       "      <td>Right hand shoulder blocked due to accident on...</td>\n",
       "      <td>66.9</td>\n",
       "      <td>None</td>\n",
       "      <td>None</td>\n",
       "      <td>KCQT</td>\n",
       "      <td>9.534827e+11</td>\n",
       "      <td>3</td>\n",
       "      <td>2016</td>\n",
       "      <td>7</td>\n",
       "    </tr>\n",
       "    <tr>\n",
       "      <th>4</th>\n",
       "      <td>A-45839</td>\n",
       "      <td>2016-07-01</td>\n",
       "      <td>3</td>\n",
       "      <td>0.0</td>\n",
       "      <td>Accident on I-5 Southbound at Exit 142 Colorad...</td>\n",
       "      <td>66.0</td>\n",
       "      <td>None</td>\n",
       "      <td>None</td>\n",
       "      <td>KCQT</td>\n",
       "      <td>9.534827e+11</td>\n",
       "      <td>8589934592</td>\n",
       "      <td>2016</td>\n",
       "      <td>7</td>\n",
       "    </tr>\n",
       "    <tr>\n",
       "      <th>5</th>\n",
       "      <td>A-45840</td>\n",
       "      <td>2016-07-01</td>\n",
       "      <td>2</td>\n",
       "      <td>0.0</td>\n",
       "      <td>Accident on Carmenita Rd at Leffingwell Rd.</td>\n",
       "      <td>68.0</td>\n",
       "      <td>6.9</td>\n",
       "      <td>None</td>\n",
       "      <td>KFUL</td>\n",
       "      <td>1.494649e+12</td>\n",
       "      <td>8589934592</td>\n",
       "      <td>2016</td>\n",
       "      <td>7</td>\n",
       "    </tr>\n",
       "    <tr>\n",
       "      <th>6</th>\n",
       "      <td>A-45841</td>\n",
       "      <td>2016-07-01</td>\n",
       "      <td>3</td>\n",
       "      <td>0.0</td>\n",
       "      <td>Accident on I-210 Eastbound at Exit 34 Evergre...</td>\n",
       "      <td>69.8</td>\n",
       "      <td>None</td>\n",
       "      <td>None</td>\n",
       "      <td>KEMT</td>\n",
       "      <td>NaN</td>\n",
       "      <td>81</td>\n",
       "      <td>2016</td>\n",
       "      <td>7</td>\n",
       "    </tr>\n",
       "    <tr>\n",
       "      <th>7</th>\n",
       "      <td>A-45842</td>\n",
       "      <td>2016-07-01</td>\n",
       "      <td>3</td>\n",
       "      <td>0.0</td>\n",
       "      <td>Accident on I-15 Southbound at Exit 148 Amargo...</td>\n",
       "      <td>78.8</td>\n",
       "      <td>9.2</td>\n",
       "      <td>None</td>\n",
       "      <td>KVCV</td>\n",
       "      <td>1.460289e+11</td>\n",
       "      <td>93</td>\n",
       "      <td>2016</td>\n",
       "      <td>7</td>\n",
       "    </tr>\n",
       "    <tr>\n",
       "      <th>8</th>\n",
       "      <td>A-45843</td>\n",
       "      <td>2016-07-01</td>\n",
       "      <td>3</td>\n",
       "      <td>0.0</td>\n",
       "      <td>Two lanes blocked and right hand shoulder bloc...</td>\n",
       "      <td>64.4</td>\n",
       "      <td>None</td>\n",
       "      <td>None</td>\n",
       "      <td>KF70</td>\n",
       "      <td>1.468879e+12</td>\n",
       "      <td>93</td>\n",
       "      <td>2016</td>\n",
       "      <td>7</td>\n",
       "    </tr>\n",
       "    <tr>\n",
       "      <th>9</th>\n",
       "      <td>A-45844</td>\n",
       "      <td>2016-07-01</td>\n",
       "      <td>3</td>\n",
       "      <td>0.0</td>\n",
       "      <td>Right hand shoulder blocked due to accident on...</td>\n",
       "      <td>66.0</td>\n",
       "      <td>None</td>\n",
       "      <td>None</td>\n",
       "      <td>KSMO</td>\n",
       "      <td>9.534827e+11</td>\n",
       "      <td>8589934592</td>\n",
       "      <td>2016</td>\n",
       "      <td>7</td>\n",
       "    </tr>\n",
       "  </tbody>\n",
       "</table>\n",
       "</div>"
      ],
      "text/plain": [
       "  accident_id    datetime severity distance  \\\n",
       "0     A-45835  2016-07-01        3      0.0   \n",
       "1     A-45836  2016-07-01        2      0.0   \n",
       "2     A-45837  2016-07-01        2      0.0   \n",
       "3     A-45838  2016-07-01        3      0.0   \n",
       "4     A-45839  2016-07-01        3      0.0   \n",
       "5     A-45840  2016-07-01        2      0.0   \n",
       "6     A-45841  2016-07-01        3      0.0   \n",
       "7     A-45842  2016-07-01        3      0.0   \n",
       "8     A-45843  2016-07-01        3      0.0   \n",
       "9     A-45844  2016-07-01        3      0.0   \n",
       "\n",
       "                                         description temperature wind_speed  \\\n",
       "0  #1 lane closed due to accident on I-405 Southb...        64.9        5.8   \n",
       "1  Right hand shoulder blocked due to accident on...        64.9        4.6   \n",
       "2  Right hand shoulder blocked due to accident on...        64.9        4.6   \n",
       "3  Right hand shoulder blocked due to accident on...        66.9       None   \n",
       "4  Accident on I-5 Southbound at Exit 142 Colorad...        66.0       None   \n",
       "5        Accident on Carmenita Rd at Leffingwell Rd.        68.0        6.9   \n",
       "6  Accident on I-210 Eastbound at Exit 34 Evergre...        69.8       None   \n",
       "7  Accident on I-15 Southbound at Exit 148 Amargo...        78.8        9.2   \n",
       "8  Two lanes blocked and right hand shoulder bloc...        64.4       None   \n",
       "9  Right hand shoulder blocked due to accident on...        66.0       None   \n",
       "\n",
       "  precipitation airport_code       city_id  weather_condition_id  year month  \n",
       "0          None         KVNY           NaN                    93  2016     7  \n",
       "1          None         KBUR           NaN                    93  2016     7  \n",
       "2          None         KBUR  9.534827e+11                    93  2016     7  \n",
       "3          None         KCQT  9.534827e+11                     3  2016     7  \n",
       "4          None         KCQT  9.534827e+11            8589934592  2016     7  \n",
       "5          None         KFUL  1.494649e+12            8589934592  2016     7  \n",
       "6          None         KEMT           NaN                    81  2016     7  \n",
       "7          None         KVCV  1.460289e+11                    93  2016     7  \n",
       "8          None         KF70  1.468879e+12                    93  2016     7  \n",
       "9          None         KSMO  9.534827e+11            8589934592  2016     7  "
      ]
     },
     "execution_count": 6,
     "metadata": {},
     "output_type": "execute_result"
    }
   ],
   "source": [
    "from pyathena import connect\n",
    "import pandas as pd\n",
    "conn = connect(s3_staging_dir='s3://athena-staging-fulu',\n",
    "               region_name='eu-west-1')\n",
    "\n",
    "df = pd.read_sql(\"SELECT * FROM udacity.accidents limit 10;\", conn)\n",
    "df"
   ]
  },
  {
   "cell_type": "markdown",
   "metadata": {},
   "source": [
    "### Example queries"
   ]
  },
  {
   "cell_type": "markdown",
   "metadata": {},
   "source": [
    "1. Get the number of accidents in May 2016."
   ]
  },
  {
   "cell_type": "code",
   "execution_count": 3,
   "metadata": {
    "pycharm": {
     "is_executing": false
    }
   },
   "outputs": [
    {
     "data": {
      "text/html": [
       "<div>\n",
       "<style scoped>\n",
       "    .dataframe tbody tr th:only-of-type {\n",
       "        vertical-align: middle;\n",
       "    }\n",
       "\n",
       "    .dataframe tbody tr th {\n",
       "        vertical-align: top;\n",
       "    }\n",
       "\n",
       "    .dataframe thead th {\n",
       "        text-align: right;\n",
       "    }\n",
       "</style>\n",
       "<table border=\"1\" class=\"dataframe\">\n",
       "  <thead>\n",
       "    <tr style=\"text-align: right;\">\n",
       "      <th></th>\n",
       "      <th>_col0</th>\n",
       "    </tr>\n",
       "  </thead>\n",
       "  <tbody>\n",
       "    <tr>\n",
       "      <th>0</th>\n",
       "      <td>3760</td>\n",
       "    </tr>\n",
       "  </tbody>\n",
       "</table>\n",
       "</div>"
      ],
      "text/plain": [
       "   _col0\n",
       "0   3760"
      ]
     },
     "execution_count": 3,
     "metadata": {},
     "output_type": "execute_result"
    }
   ],
   "source": [
    "df = pd.read_sql(\"SELECT COUNT(*) FROM udacity.accidents WHERE year='2016' AND month='5';\", conn)\n",
    "df"
   ]
  },
  {
   "cell_type": "code",
   "execution_count": 11,
   "metadata": {
    "pycharm": {
     "is_executing": false
    }
   },
   "outputs": [
    {
     "data": {
      "text/html": [
       "<div>\n",
       "<style scoped>\n",
       "    .dataframe tbody tr th:only-of-type {\n",
       "        vertical-align: middle;\n",
       "    }\n",
       "\n",
       "    .dataframe tbody tr th {\n",
       "        vertical-align: top;\n",
       "    }\n",
       "\n",
       "    .dataframe thead th {\n",
       "        text-align: right;\n",
       "    }\n",
       "</style>\n",
       "<table border=\"1\" class=\"dataframe\">\n",
       "  <thead>\n",
       "    <tr style=\"text-align: right;\">\n",
       "      <th></th>\n",
       "      <th>city_id</th>\n",
       "      <th>city_name</th>\n",
       "      <th>state</th>\n",
       "      <th>state_code</th>\n",
       "      <th>total_population</th>\n",
       "    </tr>\n",
       "  </thead>\n",
       "  <tbody>\n",
       "    <tr>\n",
       "      <th>0</th>\n",
       "      <td>8589934593</td>\n",
       "      <td>Dayton</td>\n",
       "      <td>OH</td>\n",
       "      <td>OH</td>\n",
       "      <td>140597</td>\n",
       "    </tr>\n",
       "  </tbody>\n",
       "</table>\n",
       "</div>"
      ],
      "text/plain": [
       "      city_id city_name state state_code total_population\n",
       "0  8589934593    Dayton    OH         OH           140597"
      ]
     },
     "execution_count": 11,
     "metadata": {},
     "output_type": "execute_result"
    }
   ],
   "source": [
    "df = pd.read_sql(\"SELECT * FROM udacity.cities WHERE city_id=8589934593;\", conn)\n",
    "df"
   ]
  },
  {
   "cell_type": "code",
   "execution_count": null,
   "metadata": {},
   "outputs": [],
   "source": []
  }
 ],
 "metadata": {
  "kernelspec": {
   "display_name": "my-venv",
   "language": "python",
   "name": "my-venv"
  },
  "language_info": {
   "codemirror_mode": {
    "name": "ipython",
    "version": 3
   },
   "file_extension": ".py",
   "mimetype": "text/x-python",
   "name": "python",
   "nbconvert_exporter": "python",
   "pygments_lexer": "ipython3",
   "version": "3.7.5"
  }
 },
 "nbformat": 4,
 "nbformat_minor": 1
}
